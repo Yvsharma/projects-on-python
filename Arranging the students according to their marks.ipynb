{
 "cells": [
  {
   "cell_type": "markdown",
   "id": "b427f229",
   "metadata": {},
   "source": [
    "# Python program for arranging the students according to their marks in descending order"
   ]
  },
  {
   "cell_type": "markdown",
   "id": "97b67bc6",
   "metadata": {},
   "source": [
    "Consider a class of 20 students whose names and marks are given to you. The task is to arrange the students according to their marks in decreasing order. Write a python program to perform the task.\n",
    "\n",
    "Examples:\n",
    "\n",
    "Input:\n",
    "Arun: 78%\n",
    "Geeta: 86%\n",
    "Shilpi: 65%\n",
    "\n",
    "Output: \n",
    "Geeta: 86%\n",
    "Arun: 78%\n",
    "Shilpi: 65%"
   ]
  },
  {
   "cell_type": "code",
   "execution_count": null,
   "id": "b76c335c",
   "metadata": {},
   "outputs": [],
   "source": [
    "print(\"-----Program for printing student name with marks using list-----\")\n",
    "\n",
    "# create an empty dictionary\n",
    "D = {}\n",
    "\n",
    "n = int(input('How many student record you want to store?? '))\n",
    "\n",
    "# create an empty list\n",
    "# Add student information to the list\n",
    "ls = []\n",
    "\n",
    "for i in range(0, n):\n",
    "\t\n",
    "\t# Take combined input name and\n",
    "\t# percentage and split values\n",
    "\t# using split function.\n",
    "\tx,y = input(\"Enter the student name and it's percentage: \").split()\n",
    "\t\n",
    "\t# Add name and marks stored in x, y\n",
    "\t# respectively using tuple to the list\n",
    "\tls.append((y,x))\n",
    "\t\n",
    "# sort the elements of list\n",
    "# based on marks\n",
    "ls = sorted(ls, reverse = True)\n",
    "\n",
    "print('Sorted list of students according to their marks in descending order')\n",
    "\n",
    "for i in ls:\n",
    "\t\n",
    "\t# print name and marks stored in\n",
    "\t# second and first position\n",
    "\t# respectively in list of tuples.\n",
    "\tprint(i[1], i[0])\n"
   ]
  }
 ],
 "metadata": {
  "kernelspec": {
   "display_name": "Python 3 (ipykernel)",
   "language": "python",
   "name": "python3"
  },
  "language_info": {
   "codemirror_mode": {
    "name": "ipython",
    "version": 3
   },
   "file_extension": ".py",
   "mimetype": "text/x-python",
   "name": "python",
   "nbconvert_exporter": "python",
   "pygments_lexer": "ipython3",
   "version": "3.9.12"
  }
 },
 "nbformat": 4,
 "nbformat_minor": 5
}
