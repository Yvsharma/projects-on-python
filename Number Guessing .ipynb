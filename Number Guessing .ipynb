{
 "cells": [
  {
   "cell_type": "markdown",
   "id": "479f1386",
   "metadata": {},
   "source": [
    "# Number Guessing "
   ]
  },
  {
   "cell_type": "markdown",
   "id": "64921477",
   "metadata": {},
   "source": [
    "This beginner Python project is a fun game that generates a random number (in a certain range) that the user must guess after receiving hints. For each wrong guess the user makes, they receive extra hints, but at the cost of reducing their final score."
   ]
  },
  {
   "cell_type": "markdown",
   "id": "fb8ed3fe",
   "metadata": {},
   "source": [
    "This program is a great way to experiment with the Python standard library, as it uses the Python random module to generate random numbers. You can also get some hands-on practice with conditional statements, print formatting, and user-defined functions."
   ]
  },
  {
   "cell_type": "markdown",
   "id": "5a55e87e",
   "metadata": {},
   "source": [
    "Source Code:"
   ]
  },
  {
   "cell_type": "markdown",
   "id": "87502a1a",
   "metadata": {},
   "source": [
    "'''\n",
    "Number Guessing Game\n",
    "-------------------------------------------------------------\n",
    "'''"
   ]
  },
  {
   "cell_type": "code",
   "execution_count": 1,
   "id": "06218439",
   "metadata": {},
   "outputs": [
    {
     "name": "stdout",
     "output_type": "stream",
     "text": [
      "Hello traveler! Welcome to the game of guesses!\n",
      "What is your name? yash\n",
      "Hi, yash, would you like to play the guessing game?(Enter Yes/No): yes\n",
      "There is currently no high score, it's yours for the taking!\n",
      "Pick a number between 1 and 10: 7\n",
      "It's lower\n",
      "Pick a number between 1 and 10: 9\n",
      "It's lower\n",
      "Pick a number between 1 and 10: 10\n",
      "It's lower\n",
      "Pick a number between 1 and 10: 5\n",
      "It's lower\n",
      "Pick a number between 1 and 10: 1\n",
      "It's higher\n",
      "Pick a number between 1 and 10: 2\n",
      "Nice! You got it!\n",
      "It took you 6 attempts\n",
      "Would you like to play again? (Enter Yes/No): 6\n",
      "That's cool, have a good one!\n"
     ]
    }
   ],
   "source": [
    "import random\n",
    "\n",
    "attempts_list = []\n",
    "\n",
    "\n",
    "def show_score():\n",
    "  if not attempts_list:\n",
    "      print('There is currently no high score, it\\'s yours for the taking!')\n",
    "\n",
    "  else:\n",
    "      print(f'The current high score is {min(attempts_list)} attempts')\n",
    "\n",
    "\n",
    "def start_game():\n",
    "   attempts = 0\n",
    "   rand_num = random.randint(1, 10)\n",
    "   print('Hello traveler! Welcome to the game of guesses!')\n",
    "   player_name = input('What is your name? ')\n",
    "   wanna_play = input(\n",
    "       f'Hi, {player_name}, would you like to play the guessing game?'\n",
    "       '(Enter Yes/No): ')\n",
    "\n",
    "   if wanna_play.lower() != 'yes':\n",
    "      print('That\\'s cool, Thanks!')\n",
    "      exit()\n",
    "   else:\n",
    "       show_score()\n",
    "\n",
    "   while wanna_play.lower() == 'yes':\n",
    "       try:\n",
    "           guess = int(input('Pick a number between 1 and 10: '))\n",
    "           if guess < 1 or guess > 10:\n",
    "               raise ValueError(\n",
    "                   'Please guess a number within the given range')\n",
    "\n",
    "           attempts += 1\n",
    "           attempts_list.append(attempts)\n",
    "\n",
    "           if guess == rand_num:\n",
    "               print('Nice! You got it!')\n",
    "               print(f'It took you {attempts} attempts')\n",
    "               wanna_play = input(\n",
    "                   'Would you like to play again? (Enter Yes/No): ')\n",
    "               if wanna_play.lower() != 'yes':\n",
    "                   print('That\\'s cool, have a good one!')\n",
    "                   break\n",
    "               else:\n",
    "                   attempts = 0\n",
    "                   rand_num = random.randint(1, 10)\n",
    "                   show_score()\n",
    "                   continue\n",
    "           else:\n",
    "               if guess > rand_num:\n",
    "                   print('It\\'s lower')\n",
    "               elif guess < rand_num:\n",
    "                   print('It\\'s higher')\n",
    "\n",
    "       except ValueError as err:\n",
    "           print('Oh no!, that is not a valid value. Try again...')\n",
    "           print(err)\n",
    "\n",
    "\n",
    "if __name__ == '__main__':\n",
    "   start_game()\n"
   ]
  },
  {
   "cell_type": "code",
   "execution_count": null,
   "id": "b83f668a",
   "metadata": {},
   "outputs": [],
   "source": []
  }
 ],
 "metadata": {
  "kernelspec": {
   "display_name": "Python 3 (ipykernel)",
   "language": "python",
   "name": "python3"
  },
  "language_info": {
   "codemirror_mode": {
    "name": "ipython",
    "version": 3
   },
   "file_extension": ".py",
   "mimetype": "text/x-python",
   "name": "python",
   "nbconvert_exporter": "python",
   "pygments_lexer": "ipython3",
   "version": "3.9.12"
  }
 },
 "nbformat": 4,
 "nbformat_minor": 5
}
