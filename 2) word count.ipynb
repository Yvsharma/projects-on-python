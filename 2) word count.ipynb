{
 "cells": [
  {
   "cell_type": "code",
   "execution_count": 7,
   "id": "c0771e1d",
   "metadata": {},
   "outputs": [
    {
     "name": "stdout",
     "output_type": "stream",
     "text": [
      "Enter file name :- text.txt\n",
      "the clown ran after the car and the car ran into the tent and the tent fell down on the clown and the car. Studying python is very important. perfect Plan B makes us perfect in python and Machine Learning\n",
      "[['the', 'clown', 'ran', 'after', 'the', 'car', 'and', 'the', 'car', 'ran', 'into', 'the', 'tent', 'and', 'the', 'tent', 'fell', 'down', 'on', 'the', 'clown', 'and', 'the', 'car.', 'Studying', 'python', 'is', 'very', 'important.', 'perfect', 'Plan', 'B', 'makes', 'us', 'perfect', 'in', 'python', 'and', 'Machine', 'Learning']]\n",
      "1\n",
      "1\n"
     ]
    }
   ],
   "source": [
    "file=input(\"Enter file name :- \")\n",
    "My_file=open(file,\"r\")\n",
    "c=[]\n",
    "for x in My_file:\n",
    "    print(x)\n",
    "    c.append(x.split(' '))\n",
    "    print(c)\n",
    "d=0\n",
    "for i in range (len (c)):\n",
    "    d=d+1\n",
    "print(d)\n",
    "print(len(c))"
   ]
  },
  {
   "cell_type": "code",
   "execution_count": null,
   "id": "7b87098a",
   "metadata": {},
   "outputs": [],
   "source": []
  }
 ],
 "metadata": {
  "kernelspec": {
   "display_name": "Python 3 (ipykernel)",
   "language": "python",
   "name": "python3"
  },
  "language_info": {
   "codemirror_mode": {
    "name": "ipython",
    "version": 3
   },
   "file_extension": ".py",
   "mimetype": "text/x-python",
   "name": "python",
   "nbconvert_exporter": "python",
   "pygments_lexer": "ipython3",
   "version": "3.9.12"
  }
 },
 "nbformat": 4,
 "nbformat_minor": 5
}
