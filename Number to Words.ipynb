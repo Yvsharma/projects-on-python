{
 "cells": [
  {
   "cell_type": "markdown",
   "id": "0816900d",
   "metadata": {},
   "source": [
    "# Number to Words"
   ]
  },
  {
   "cell_type": "markdown",
   "id": "efa1af9c",
   "metadata": {},
   "source": [
    "This Python project idea converts an integer number provided via user input to its equivalent words. This program is set up to support numbers with a maximum of 12 digits, but feel free to modify the program to handle larger numbers (hint: requires conditional statements and loops).\n",
    "\n",
    "As an easy-to-understand example of basic Python projects, this simple but effective program can expand your skills with loops, user input, and conditional statements, not to mention Python tuples and lists.\n",
    "\n",
    "You’ll also be able to experiment with some mathematical operations that may be new to you, like the modulo (%) operator to return the remainder from integer division."
   ]
  },
  {
   "cell_type": "markdown",
   "id": "30fd47ef",
   "metadata": {},
   "source": [
    "Source Code:"
   ]
  },
  {
   "cell_type": "code",
   "execution_count": null,
   "id": "20fa39c0",
   "metadata": {},
   "outputs": [],
   "source": [
    "ones = (\n",
    "   'Zero', 'One', 'Two', 'Three', 'Four',\n",
    "   'Five', 'Six', 'Seven', 'Eight', 'Nine'\n",
    "   )\n",
    "\n",
    "twos = (\n",
    "   'Ten', 'Eleven', 'Twelve', 'Thirteen', 'Fourteen',\n",
    "    'Fifteen', 'Sixteen', 'Seventeen', 'Eighteen', 'Nineteen'\n",
    "   )\n",
    "\n",
    "tens = (\n",
    "   'Twenty', 'Thirty', 'Forty', 'Fifty', 'Sixty',\n",
    "    'Seventy', 'Eighty', 'Ninety', 'Hundred'\n",
    "   )\n",
    "\n",
    "suffixes = (\n",
    "   '', 'Thousand', 'Million', 'Billion'\n",
    "   )\n",
    "\n",
    "def fetch_words(number, index):\n",
    "   if number == '0': return 'Zero'\n",
    "\n",
    "   number = number.zfill(3)\n",
    "   hundreds_digit = int(number[0])\n",
    "   tens_digit = int(number[1])\n",
    "   ones_digit = int(number[2])\n",
    "\n",
    "   words = '' if number[0] == '0' else ones[hundreds_digit]\n",
    "  \n",
    "   if words != '':\n",
    "       words += ' Hundred '\n",
    "\n",
    "   if tens_digit > 1:\n",
    "       words += tens[tens_digit - 2]\n",
    "       words += ' '\n",
    "       words += ones[ones_digit]\n",
    "   elif(tens_digit == 1):\n",
    "       words += twos[((tens_digit + ones_digit) % 10) - 1]\n",
    "   elif(tens_digit == 0):\n",
    "       words += ones[ones_digit]\n",
    "\n",
    "   if(words.endswith('Zero')):\n",
    "       words = words[:-len('Zero')]\n",
    "   else:\n",
    "       words += ' '\n",
    "\n",
    "   if len(words) != 0:\n",
    "       words += suffixes[index]\n",
    "      \n",
    "   return words\n",
    "\n",
    "\n",
    "def convert_to_words(number):\n",
    "   length = len(str(number))\n",
    "   if length > 12:\n",
    "       return 'This program supports a maximum of 12 digit numbers.'\n",
    "\n",
    "   count = length // 3 if length % 3 == 0 else length // 3 + 1\n",
    "   copy = count\n",
    "   words = []\n",
    "\n",
    "   for i in range(length - 1, -1, -3):\n",
    "       words.append(fetch_words(\n",
    "           str(number)[0 if i - 2 < 0 else i - 2 : i + 1], copy - count))\n",
    "      \n",
    "       count -= 1\n",
    "\n",
    "   final_words = ''\n",
    "   for s in reversed(words):\n",
    "       final_words += (s + ' ')\n",
    "\n",
    "   return final_words\n",
    "\n",
    "if __name__ == '__main__':\n",
    "   number = int(input('Enter any number: '))\n",
    "   print('%d in words is: %s' %(number, convert_to_words(number)))"
   ]
  }
 ],
 "metadata": {
  "kernelspec": {
   "display_name": "Python 3 (ipykernel)",
   "language": "python",
   "name": "python3"
  },
  "language_info": {
   "codemirror_mode": {
    "name": "ipython",
    "version": 3
   },
   "file_extension": ".py",
   "mimetype": "text/x-python",
   "name": "python",
   "nbconvert_exporter": "python",
   "pygments_lexer": "ipython3",
   "version": "3.9.12"
  }
 },
 "nbformat": 4,
 "nbformat_minor": 5
}
